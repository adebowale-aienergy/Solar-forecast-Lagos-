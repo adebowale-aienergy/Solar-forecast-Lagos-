{
 "cells": [
  {
   "cell_type": "markdown",
   "metadata": {},
   "source": [
    "# Solar Energy Forecasting\n",
    "This notebook demonstrates a basic example of forecasting solar energy generation using historical data."
   ]
  },
  {
   "cell_type": "code",
   "execution_count": null,
   "metadata": {},
   "outputs": [],
   "source": [
    "import pandas as pd\n",
    "import matplotlib.pyplot as plt\n",
    "from sklearn.linear_model import LinearRegression\n",
    "\n",
    "# Load sample data\n",
    "df = pd.read_csv('sample_solar_data.csv')\n",
    "print(df.head())\n",
    "\n",
    "# Prepare data\n",
    "X = df[['day']]\n",
    "y = df['energy_generated']\n",
    "\n",
    "# Train model\n",
    "model = LinearRegression()\n",
    "model.fit(X, y)\n",
    "\n",
    "# Predict\n",
    "df['prediction'] = model.predict(X)\n",
    "plt.plot(df['day'], df['energy_generated'], label='Actual')\n",
    "plt.plot(df['day'], df['prediction'], label='Predicted')\n",
    "plt.legend()\n",
    "plt.show()"
   ]
  }
 ],
 "metadata": {},
 "nbformat": 4,
 "nbformat_minor": 2
}
